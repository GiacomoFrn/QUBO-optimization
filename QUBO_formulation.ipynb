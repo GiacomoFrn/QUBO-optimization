{
 "cells": [
  {
   "cell_type": "code",
   "execution_count": 1,
   "metadata": {},
   "outputs": [],
   "source": [
    "import pandas as pd\n",
    "import numpy as np\n",
    "import dimod\n",
    "from itertools import combinations\n",
    "\n",
    "%load_ext autoreload\n",
    "%autoreload 1\n",
    "\n",
    "%aimport modules\n",
    "from modules import qubo_from_data\n",
    "from modules import process_qubo_df\n",
    "from modules import reduce_higher_order_terms\n",
    "from modules import qubo_matrix_from_df\n",
    "from modules import print_qubo_matrix\n",
    "from modules import read_spot_file"
   ]
  },
  {
   "cell_type": "markdown",
   "metadata": {},
   "source": [
    "## QUBO formulation\n",
    "\n",
    "### Data description\n",
    "\n",
    "Our task consists in optimizing the routine of a satellite that needs to take several photos. The satellite under consideration has three different cameras (1,2,3) and can take mono-photo, choosing one among the three cameras, or stereo-photo, with cameras 1 and 3.\n",
    "\n",
    "The satellite's routine is scheduled by a .spot file that contains both photo requests and constraints on those. At the beginning of the requests, there is a single line stating the number of requests, the same for the constraints.\n",
    "\n",
    "A photo request consists in:\n",
    "- the id of the photo\n",
    "- the value of the picture\n",
    "- a list of different cameras with which the photo can be taken\n",
    "- (after the camera id there is the memory used, not of our interest yet)\n",
    "\n",
    "A constraint consists in:\n",
    "- the number of requests affected by the constraint\n",
    "- a list of camera combinations not allowed\n",
    "\n",
    "Our goal is to maximize the value of each .spot schedule without breaking any constraints."
   ]
  },
  {
   "cell_type": "markdown",
   "metadata": {},
   "source": [
    "### Read spot file"
   ]
  },
  {
   "cell_type": "code",
   "execution_count": 2,
   "metadata": {},
   "outputs": [],
   "source": [
    "# read spot file\n",
    "data_dir  = 'data/'\n",
    "file_name = '20.spot'\n",
    "photo_req_df, constraints_df = read_spot_file(data_dir, file_name)"
   ]
  },
  {
   "cell_type": "code",
   "execution_count": 3,
   "metadata": {},
   "outputs": [
    {
     "data": {
      "text/html": [
       "<div>\n",
       "<style scoped>\n",
       "    .dataframe tbody tr th:only-of-type {\n",
       "        vertical-align: middle;\n",
       "    }\n",
       "\n",
       "    .dataframe tbody tr th {\n",
       "        vertical-align: top;\n",
       "    }\n",
       "\n",
       "    .dataframe thead th {\n",
       "        text-align: right;\n",
       "    }\n",
       "</style>\n",
       "<table border=\"1\" class=\"dataframe\">\n",
       "  <thead>\n",
       "    <tr style=\"text-align: right;\">\n",
       "      <th></th>\n",
       "      <th>id</th>\n",
       "      <th>value</th>\n",
       "      <th>mono</th>\n",
       "      <th>options</th>\n",
       "    </tr>\n",
       "  </thead>\n",
       "  <tbody>\n",
       "    <tr>\n",
       "      <th>0</th>\n",
       "      <td>0</td>\n",
       "      <td>2</td>\n",
       "      <td>False</td>\n",
       "      <td>[13]</td>\n",
       "    </tr>\n",
       "    <tr>\n",
       "      <th>1</th>\n",
       "      <td>1</td>\n",
       "      <td>1</td>\n",
       "      <td>True</td>\n",
       "      <td>[1, 2, 3]</td>\n",
       "    </tr>\n",
       "    <tr>\n",
       "      <th>2</th>\n",
       "      <td>2</td>\n",
       "      <td>1</td>\n",
       "      <td>True</td>\n",
       "      <td>[1, 2, 3]</td>\n",
       "    </tr>\n",
       "    <tr>\n",
       "      <th>3</th>\n",
       "      <td>3</td>\n",
       "      <td>2</td>\n",
       "      <td>False</td>\n",
       "      <td>[13]</td>\n",
       "    </tr>\n",
       "    <tr>\n",
       "      <th>4</th>\n",
       "      <td>4</td>\n",
       "      <td>2</td>\n",
       "      <td>False</td>\n",
       "      <td>[13]</td>\n",
       "    </tr>\n",
       "  </tbody>\n",
       "</table>\n",
       "</div>"
      ],
      "text/plain": [
       "   id  value   mono    options\n",
       "0   0      2  False       [13]\n",
       "1   1      1   True  [1, 2, 3]\n",
       "2   2      1   True  [1, 2, 3]\n",
       "3   3      2  False       [13]\n",
       "4   4      2  False       [13]"
      ]
     },
     "execution_count": 3,
     "metadata": {},
     "output_type": "execute_result"
    }
   ],
   "source": [
    "# visualizing photo requests\n",
    "photo_req_df.head()"
   ]
  },
  {
   "cell_type": "code",
   "execution_count": 4,
   "metadata": {},
   "outputs": [
    {
     "data": {
      "text/html": [
       "<div>\n",
       "<style scoped>\n",
       "    .dataframe tbody tr th:only-of-type {\n",
       "        vertical-align: middle;\n",
       "    }\n",
       "\n",
       "    .dataframe tbody tr th {\n",
       "        vertical-align: top;\n",
       "    }\n",
       "\n",
       "    .dataframe thead th {\n",
       "        text-align: right;\n",
       "    }\n",
       "</style>\n",
       "<table border=\"1\" class=\"dataframe\">\n",
       "  <thead>\n",
       "    <tr style=\"text-align: right;\">\n",
       "      <th></th>\n",
       "      <th>ids</th>\n",
       "      <th>restrictions</th>\n",
       "    </tr>\n",
       "  </thead>\n",
       "  <tbody>\n",
       "    <tr>\n",
       "      <th>0</th>\n",
       "      <td>[2, 1]</td>\n",
       "      <td>[[3, 3], [2, 2], [1, 1]]</td>\n",
       "    </tr>\n",
       "    <tr>\n",
       "      <th>1</th>\n",
       "      <td>[2, 10]</td>\n",
       "      <td>[[3, 13], [1, 13]]</td>\n",
       "    </tr>\n",
       "    <tr>\n",
       "      <th>2</th>\n",
       "      <td>[4, 6]</td>\n",
       "      <td>[[13, 13]]</td>\n",
       "    </tr>\n",
       "    <tr>\n",
       "      <th>3</th>\n",
       "      <td>[1, 10]</td>\n",
       "      <td>[[3, 13], [1, 13]]</td>\n",
       "    </tr>\n",
       "    <tr>\n",
       "      <th>4</th>\n",
       "      <td>[3, 12]</td>\n",
       "      <td>[[13, 13]]</td>\n",
       "    </tr>\n",
       "  </tbody>\n",
       "</table>\n",
       "</div>"
      ],
      "text/plain": [
       "       ids              restrictions\n",
       "0   [2, 1]  [[3, 3], [2, 2], [1, 1]]\n",
       "1  [2, 10]        [[3, 13], [1, 13]]\n",
       "2   [4, 6]                [[13, 13]]\n",
       "3  [1, 10]        [[3, 13], [1, 13]]\n",
       "4  [3, 12]                [[13, 13]]"
      ]
     },
     "execution_count": 4,
     "metadata": {},
     "output_type": "execute_result"
    }
   ],
   "source": [
    "# visualizing constraints\n",
    "constraints_df.head()"
   ]
  },
  {
   "cell_type": "markdown",
   "metadata": {},
   "source": [
    "### Encoding\n",
    "QUBO stays for Quadratic Uncostrained _Binary_ Optimization. First of all, we should translate our problem in terms of binary variables. We will consider two possibilities:\n",
    "\n",
    "__standard__\n",
    "- _mono_: We can take (1) or not take (0) the photo with each of the three cameras. Three binary variables are needed:\n",
    "$$\n",
    "(x_{i0},\\, x_{i1},\\, x_{i2})\n",
    "$$\n",
    "- _stereo_: The stereo photo can only be taken with the cameras $1$ and $3$, so we have only one binary variable:\n",
    "$$\n",
    "x_i\n",
    "$$\n",
    "\n",
    "Note that, in the case of a mono photo, we have a total of 8 different instantiations of the binary variables when only 3 are feasible ($001,\\, 010,\\, 100$). We can think about more efficient encodings.\n",
    "\n",
    "__dense__:\n",
    "- _mono_: Just two variables could be sufficient:\n",
    "\n",
    "<center>\n",
    "\n",
    "|          | $x_{i0}$ | $x_{i1}$ |\n",
    "|----------|----------|----------|\n",
    "| no photo | 0        | 0        |\n",
    "| camera 1 | 0        | 1        |\n",
    "| camera 2 | 1        | 0        |\n",
    "| camera 3 | 1        | 1        |\n",
    "\n",
    "</center>\n",
    "\n",
    "- _stereo_: As in the previous encoding we consider one variable\n",
    "$$\n",
    "x_i\n",
    "$$\n",
    "\n",
    "In the latter case we use one less variable with respect to the former, it seems convenient. Despite that, with the _dense_ encoding the costraint formulation requires an auxiliary variable so it is important to carefully understand if there is an actual advantage."
   ]
  },
  {
   "cell_type": "code",
   "execution_count": 5,
   "metadata": {},
   "outputs": [],
   "source": [
    "# select encoding (standard, dense)\n",
    "encoding = 'dense'\n",
    "penalty_coeff = 1.1\n",
    "\n",
    "# get qubo df\n",
    "qubo_df = qubo_from_data(photo_req_df, constraints_df, encoding, penalty_coeff)"
   ]
  },
  {
   "cell_type": "code",
   "execution_count": 6,
   "metadata": {},
   "outputs": [
    {
     "data": {
      "text/html": [
       "<div>\n",
       "<style scoped>\n",
       "    .dataframe tbody tr th:only-of-type {\n",
       "        vertical-align: middle;\n",
       "    }\n",
       "\n",
       "    .dataframe tbody tr th {\n",
       "        vertical-align: top;\n",
       "    }\n",
       "\n",
       "    .dataframe thead th {\n",
       "        text-align: right;\n",
       "    }\n",
       "</style>\n",
       "<table border=\"1\" class=\"dataframe\">\n",
       "  <thead>\n",
       "    <tr style=\"text-align: right;\">\n",
       "      <th></th>\n",
       "      <th>rank</th>\n",
       "      <th>coeff</th>\n",
       "      <th>indexes</th>\n",
       "    </tr>\n",
       "  </thead>\n",
       "  <tbody>\n",
       "    <tr>\n",
       "      <th>0</th>\n",
       "      <td>1</td>\n",
       "      <td>-2.0</td>\n",
       "      <td>[[0, 13]]</td>\n",
       "    </tr>\n",
       "    <tr>\n",
       "      <th>1</th>\n",
       "      <td>2</td>\n",
       "      <td>1.0</td>\n",
       "      <td>[[1, 0], [1, 1]]</td>\n",
       "    </tr>\n",
       "    <tr>\n",
       "      <th>2</th>\n",
       "      <td>1</td>\n",
       "      <td>-1.0</td>\n",
       "      <td>[[1, 1]]</td>\n",
       "    </tr>\n",
       "    <tr>\n",
       "      <th>3</th>\n",
       "      <td>1</td>\n",
       "      <td>-1.0</td>\n",
       "      <td>[[1, 0]]</td>\n",
       "    </tr>\n",
       "    <tr>\n",
       "      <th>4</th>\n",
       "      <td>2</td>\n",
       "      <td>1.0</td>\n",
       "      <td>[[1, 0], [1, 1]]</td>\n",
       "    </tr>\n",
       "  </tbody>\n",
       "</table>\n",
       "</div>"
      ],
      "text/plain": [
       "   rank  coeff           indexes\n",
       "0     1   -2.0         [[0, 13]]\n",
       "1     2    1.0  [[1, 0], [1, 1]]\n",
       "2     1   -1.0          [[1, 1]]\n",
       "3     1   -1.0          [[1, 0]]\n",
       "4     2    1.0  [[1, 0], [1, 1]]"
      ]
     },
     "execution_count": 6,
     "metadata": {},
     "output_type": "execute_result"
    }
   ],
   "source": [
    "# each row is a term in the qubo\n",
    "# the indexes column has the following pattern [[id, camera], ...]\n",
    "# each tuple [id, camera] is a variable in the qubo formulation\n",
    "# when more than one tuple is present, the term is a higher order term (>1)\n",
    "qubo_df.head()"
   ]
  },
  {
   "cell_type": "markdown",
   "metadata": {},
   "source": [
    "### Preprocessing\n",
    "\n",
    "The _tuple_ variables indexing is convenient to link the variable to its actual meaning but not efficient in terms of handling, we need to convert in a unique way the _tuple_ indexing to a standard integer indexing. We also have to group by same terms in the dataframe summing the coefficients.\n",
    "\n",
    "The _tuple_ to _integer_ conversion is stored in the `key_to_qubo_dict`."
   ]
  },
  {
   "cell_type": "code",
   "execution_count": 7,
   "metadata": {},
   "outputs": [],
   "source": [
    "qubo_df_, key_to_qubo_dict = process_qubo_df(qubo_df)"
   ]
  },
  {
   "cell_type": "code",
   "execution_count": 8,
   "metadata": {},
   "outputs": [
    {
     "data": {
      "text/html": [
       "<div>\n",
       "<style scoped>\n",
       "    .dataframe tbody tr th:only-of-type {\n",
       "        vertical-align: middle;\n",
       "    }\n",
       "\n",
       "    .dataframe tbody tr th {\n",
       "        vertical-align: top;\n",
       "    }\n",
       "\n",
       "    .dataframe thead th {\n",
       "        text-align: right;\n",
       "    }\n",
       "</style>\n",
       "<table border=\"1\" class=\"dataframe\">\n",
       "  <thead>\n",
       "    <tr style=\"text-align: right;\">\n",
       "      <th></th>\n",
       "      <th>rank</th>\n",
       "      <th>coeff</th>\n",
       "      <th>variables</th>\n",
       "    </tr>\n",
       "  </thead>\n",
       "  <tbody>\n",
       "    <tr>\n",
       "      <th>0</th>\n",
       "      <td>1</td>\n",
       "      <td>-2.0</td>\n",
       "      <td>[0]</td>\n",
       "    </tr>\n",
       "    <tr>\n",
       "      <th>1</th>\n",
       "      <td>2</td>\n",
       "      <td>1.0</td>\n",
       "      <td>[14, 15]</td>\n",
       "    </tr>\n",
       "    <tr>\n",
       "      <th>2</th>\n",
       "      <td>1</td>\n",
       "      <td>-1.0</td>\n",
       "      <td>[15]</td>\n",
       "    </tr>\n",
       "    <tr>\n",
       "      <th>3</th>\n",
       "      <td>1</td>\n",
       "      <td>-1.0</td>\n",
       "      <td>[14]</td>\n",
       "    </tr>\n",
       "    <tr>\n",
       "      <th>4</th>\n",
       "      <td>2</td>\n",
       "      <td>1.0</td>\n",
       "      <td>[16, 17]</td>\n",
       "    </tr>\n",
       "  </tbody>\n",
       "</table>\n",
       "</div>"
      ],
      "text/plain": [
       "   rank  coeff variables\n",
       "0     1   -2.0       [0]\n",
       "1     2    1.0  [14, 15]\n",
       "2     1   -1.0      [15]\n",
       "3     1   -1.0      [14]\n",
       "4     2    1.0  [16, 17]"
      ]
     },
     "execution_count": 8,
     "metadata": {},
     "output_type": "execute_result"
    }
   ],
   "source": [
    "qubo_df_.head()"
   ]
  },
  {
   "cell_type": "code",
   "execution_count": 9,
   "metadata": {},
   "outputs": [
    {
     "name": "stdout",
     "output_type": "stream",
     "text": [
      "{'0_13': 0, '10_13': 1, '11_0': 2, '11_1': 3, '12_13': 4, '13_13': 5, '14_13': 6, '15_0': 7, '15_1': 8, '16_0': 9, '16_1': 10, '17_13': 11, '18_13': 12, '19_13': 13, '1_0': 14, '1_1': 15, '2_0': 16, '2_1': 17, '3_13': 18, '4_13': 19, '5_0': 20, '5_1': 21, '6_13': 22, '7_0': 23, '7_1': 24, '8_0': 25, '8_1': 26, '9_13': 27}\n"
     ]
    }
   ],
   "source": [
    "print(key_to_qubo_dict)"
   ]
  },
  {
   "cell_type": "markdown",
   "metadata": {},
   "source": [
    "### Reducing higher order terms\n",
    "\n",
    "A QUBO formulations requires only up to quadratic terms, in our use case we have different scenarios in which we have to deal with higher order terms (order>2).\n",
    "- __standard encoding__ : three photo costraints generate cubic terms\n",
    "- __dense encoding__: already two photo costraints generate quartic terms, up to order six in the case of three photo costraints.\n",
    "\n",
    "Two main method have been explored to reduce higher order terms: _boros_ [[1]] and _ishikawa_ [[2]]. Also a mixed method involving these two have been explored _mix_.\n",
    "\n",
    "[1]: https://www.sciencedirect.com/science/article/pii/S0166218X01003419?via%3Dihub\n",
    "[2]: https://ieeexplore.ieee.org/document/5444874"
   ]
  },
  {
   "cell_type": "code",
   "execution_count": 10,
   "metadata": {},
   "outputs": [],
   "source": [
    "# set method (boros, ishikawa, mix)\n",
    "method = 'boros'\n",
    "\n",
    "# reduce higher order terms\n",
    "qubo_df_, key_to_qubo_dict = reduce_higher_order_terms(qubo_df_, key_to_qubo_dict, method)"
   ]
  },
  {
   "cell_type": "markdown",
   "metadata": {},
   "source": [
    "### Solving QUBO formulations"
   ]
  },
  {
   "cell_type": "markdown",
   "metadata": {},
   "source": [
    "Beyond formulating a QUBO in the testing phase we were interested in checking the solutions of our QUBO formulations to see wether they were correct. Here we use both an exact solver (only feasible for smaller files) and a simulated annealing one."
   ]
  },
  {
   "cell_type": "code",
   "execution_count": 13,
   "metadata": {},
   "outputs": [],
   "source": [
    "# get qubo matrix from qubo_df_\n",
    "qubo = qubo_matrix_from_df(qubo_df_)"
   ]
  },
  {
   "cell_type": "markdown",
   "metadata": {},
   "source": [
    "#### Exact solver"
   ]
  },
  {
   "cell_type": "code",
   "execution_count": null,
   "metadata": {},
   "outputs": [],
   "source": [
    "# encode the dataframe into a qubo object\n",
    "bqm = dimod.BQM.from_qubo(qubo)\n",
    "# exact solver\n",
    "sampler_exact = dimod.ExactSolver()\n",
    "sampleset = sampler_exact.sample(bqm)"
   ]
  },
  {
   "cell_type": "code",
   "execution_count": null,
   "metadata": {},
   "outputs": [],
   "source": [
    "# save results in a dataframe\n",
    "results_df = sampleset.to_pandas_dataframe()\n",
    "# recover original indexes\n",
    "qubo_to_key_dict = {v: k for k, v in key_to_qubo_dict.items()}\n",
    "results_df.columns = [qubo_to_key_dict[q] for q in results_df.columns[:-2]]+['energy', 'num_occurrences']\n",
    "# sort by energy\n",
    "results_df = results_df.sort_values(by=['energy'], ascending=True)"
   ]
  },
  {
   "cell_type": "code",
   "execution_count": null,
   "metadata": {},
   "outputs": [],
   "source": [
    "results_df.head()"
   ]
  },
  {
   "cell_type": "markdown",
   "metadata": {},
   "source": [
    "#### Simulated annealing sampler"
   ]
  },
  {
   "cell_type": "code",
   "execution_count": 14,
   "metadata": {},
   "outputs": [],
   "source": [
    "# encode the dataframe into a qubo object\n",
    "bqm = dimod.BQM.from_qubo(qubo)\n",
    "# SA solver\n",
    "sampler_exact = dimod.SimulatedAnnealingSampler()\n",
    "sampleset = sampler_exact.sample(bqm, num_reads=100, num_sweeps=500)"
   ]
  },
  {
   "cell_type": "code",
   "execution_count": 15,
   "metadata": {},
   "outputs": [],
   "source": [
    "# save results in a dataframe\n",
    "results_df = sampleset.to_pandas_dataframe()\n",
    "# recover original indexes\n",
    "qubo_to_key_dict = {v: k for k, v in key_to_qubo_dict.items()}\n",
    "results_df.columns = [qubo_to_key_dict[q] for q in results_df.columns[:-2]]+['energy', 'num_occurrences']\n",
    "# sort by energy\n",
    "results_df = results_df.sort_values(by=['energy'], ascending=True)"
   ]
  },
  {
   "cell_type": "code",
   "execution_count": 16,
   "metadata": {},
   "outputs": [
    {
     "data": {
      "text/html": [
       "<div>\n",
       "<style scoped>\n",
       "    .dataframe tbody tr th:only-of-type {\n",
       "        vertical-align: middle;\n",
       "    }\n",
       "\n",
       "    .dataframe tbody tr th {\n",
       "        vertical-align: top;\n",
       "    }\n",
       "\n",
       "    .dataframe thead th {\n",
       "        text-align: right;\n",
       "    }\n",
       "</style>\n",
       "<table border=\"1\" class=\"dataframe\">\n",
       "  <thead>\n",
       "    <tr style=\"text-align: right;\">\n",
       "      <th></th>\n",
       "      <th>0_13</th>\n",
       "      <th>10_13</th>\n",
       "      <th>11_0</th>\n",
       "      <th>11_1</th>\n",
       "      <th>12_13</th>\n",
       "      <th>13_13</th>\n",
       "      <th>14_13</th>\n",
       "      <th>15_0</th>\n",
       "      <th>15_1</th>\n",
       "      <th>16_0</th>\n",
       "      <th>...</th>\n",
       "      <th>11_0_11_1</th>\n",
       "      <th>11_0_16_0</th>\n",
       "      <th>11_1_16_0</th>\n",
       "      <th>7_0_16_0</th>\n",
       "      <th>7_1_16_0</th>\n",
       "      <th>8_0_16_0</th>\n",
       "      <th>8_1_16_0</th>\n",
       "      <th>16_0_16_1</th>\n",
       "      <th>energy</th>\n",
       "      <th>num_occurrences</th>\n",
       "    </tr>\n",
       "  </thead>\n",
       "  <tbody>\n",
       "    <tr>\n",
       "      <th>55</th>\n",
       "      <td>1</td>\n",
       "      <td>0</td>\n",
       "      <td>0</td>\n",
       "      <td>1</td>\n",
       "      <td>1</td>\n",
       "      <td>1</td>\n",
       "      <td>1</td>\n",
       "      <td>0</td>\n",
       "      <td>1</td>\n",
       "      <td>0</td>\n",
       "      <td>...</td>\n",
       "      <td>0</td>\n",
       "      <td>0</td>\n",
       "      <td>0</td>\n",
       "      <td>0</td>\n",
       "      <td>0</td>\n",
       "      <td>0</td>\n",
       "      <td>0</td>\n",
       "      <td>0</td>\n",
       "      <td>-24.0</td>\n",
       "      <td>1</td>\n",
       "    </tr>\n",
       "    <tr>\n",
       "      <th>61</th>\n",
       "      <td>1</td>\n",
       "      <td>0</td>\n",
       "      <td>1</td>\n",
       "      <td>1</td>\n",
       "      <td>1</td>\n",
       "      <td>1</td>\n",
       "      <td>0</td>\n",
       "      <td>0</td>\n",
       "      <td>1</td>\n",
       "      <td>0</td>\n",
       "      <td>...</td>\n",
       "      <td>1</td>\n",
       "      <td>0</td>\n",
       "      <td>0</td>\n",
       "      <td>0</td>\n",
       "      <td>0</td>\n",
       "      <td>0</td>\n",
       "      <td>0</td>\n",
       "      <td>0</td>\n",
       "      <td>-24.0</td>\n",
       "      <td>1</td>\n",
       "    </tr>\n",
       "    <tr>\n",
       "      <th>20</th>\n",
       "      <td>1</td>\n",
       "      <td>0</td>\n",
       "      <td>1</td>\n",
       "      <td>0</td>\n",
       "      <td>1</td>\n",
       "      <td>1</td>\n",
       "      <td>0</td>\n",
       "      <td>0</td>\n",
       "      <td>1</td>\n",
       "      <td>0</td>\n",
       "      <td>...</td>\n",
       "      <td>0</td>\n",
       "      <td>0</td>\n",
       "      <td>0</td>\n",
       "      <td>0</td>\n",
       "      <td>0</td>\n",
       "      <td>0</td>\n",
       "      <td>0</td>\n",
       "      <td>0</td>\n",
       "      <td>-23.0</td>\n",
       "      <td>1</td>\n",
       "    </tr>\n",
       "    <tr>\n",
       "      <th>96</th>\n",
       "      <td>1</td>\n",
       "      <td>0</td>\n",
       "      <td>0</td>\n",
       "      <td>1</td>\n",
       "      <td>1</td>\n",
       "      <td>1</td>\n",
       "      <td>1</td>\n",
       "      <td>0</td>\n",
       "      <td>1</td>\n",
       "      <td>0</td>\n",
       "      <td>...</td>\n",
       "      <td>0</td>\n",
       "      <td>0</td>\n",
       "      <td>0</td>\n",
       "      <td>0</td>\n",
       "      <td>0</td>\n",
       "      <td>0</td>\n",
       "      <td>0</td>\n",
       "      <td>0</td>\n",
       "      <td>-23.0</td>\n",
       "      <td>1</td>\n",
       "    </tr>\n",
       "    <tr>\n",
       "      <th>52</th>\n",
       "      <td>1</td>\n",
       "      <td>0</td>\n",
       "      <td>0</td>\n",
       "      <td>0</td>\n",
       "      <td>1</td>\n",
       "      <td>1</td>\n",
       "      <td>0</td>\n",
       "      <td>0</td>\n",
       "      <td>1</td>\n",
       "      <td>0</td>\n",
       "      <td>...</td>\n",
       "      <td>0</td>\n",
       "      <td>0</td>\n",
       "      <td>0</td>\n",
       "      <td>0</td>\n",
       "      <td>0</td>\n",
       "      <td>0</td>\n",
       "      <td>0</td>\n",
       "      <td>0</td>\n",
       "      <td>-23.0</td>\n",
       "      <td>1</td>\n",
       "    </tr>\n",
       "  </tbody>\n",
       "</table>\n",
       "<p>5 rows × 57 columns</p>\n",
       "</div>"
      ],
      "text/plain": [
       "    0_13  10_13  11_0  11_1  12_13  13_13  14_13  15_0  15_1  16_0  ...  \\\n",
       "55     1      0     0     1      1      1      1     0     1     0  ...   \n",
       "61     1      0     1     1      1      1      0     0     1     0  ...   \n",
       "20     1      0     1     0      1      1      0     0     1     0  ...   \n",
       "96     1      0     0     1      1      1      1     0     1     0  ...   \n",
       "52     1      0     0     0      1      1      0     0     1     0  ...   \n",
       "\n",
       "    11_0_11_1  11_0_16_0  11_1_16_0  7_0_16_0  7_1_16_0  8_0_16_0  8_1_16_0  \\\n",
       "55          0          0          0         0         0         0         0   \n",
       "61          1          0          0         0         0         0         0   \n",
       "20          0          0          0         0         0         0         0   \n",
       "96          0          0          0         0         0         0         0   \n",
       "52          0          0          0         0         0         0         0   \n",
       "\n",
       "    16_0_16_1  energy  num_occurrences  \n",
       "55          0   -24.0                1  \n",
       "61          0   -24.0                1  \n",
       "20          0   -23.0                1  \n",
       "96          0   -23.0                1  \n",
       "52          0   -23.0                1  \n",
       "\n",
       "[5 rows x 57 columns]"
      ]
     },
     "execution_count": 16,
     "metadata": {},
     "output_type": "execute_result"
    }
   ],
   "source": [
    "results_df.head()"
   ]
  },
  {
   "cell_type": "markdown",
   "metadata": {},
   "source": []
  }
 ],
 "metadata": {
  "kernelspec": {
   "display_name": "Python 3.10.5 ('optimization')",
   "language": "python",
   "name": "python3"
  },
  "language_info": {
   "codemirror_mode": {
    "name": "ipython",
    "version": 3
   },
   "file_extension": ".py",
   "mimetype": "text/x-python",
   "name": "python",
   "nbconvert_exporter": "python",
   "pygments_lexer": "ipython3",
   "version": "3.10.5"
  },
  "orig_nbformat": 4,
  "vscode": {
   "interpreter": {
    "hash": "e44401f7ea5551dd79036e70d2bb8deb07d488b1503fe30de04de705c6c90c20"
   }
  }
 },
 "nbformat": 4,
 "nbformat_minor": 2
}
